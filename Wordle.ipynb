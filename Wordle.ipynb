{
 "cells": [
  {
   "cell_type": "markdown",
   "metadata": {},
   "source": [
    "# Wordle Cheater Data Preprocessing"
   ]
  },
  {
   "cell_type": "markdown",
   "metadata": {},
   "source": [
    "## Reading in the Data"
   ]
  },
  {
   "cell_type": "code",
   "execution_count": 69,
   "metadata": {},
   "outputs": [],
   "source": [
    "fname='corncob_lowercase.txt'\n",
    "file=open(fname,'r')\n",
    "words=file.readlines()"
   ]
  },
  {
   "cell_type": "code",
   "execution_count": 12,
   "metadata": {},
   "outputs": [
    {
     "data": {
      "text/plain": [
       "['aardvark\\n',\n",
       " 'aardwolf\\n',\n",
       " 'aaron\\n',\n",
       " 'aback\\n',\n",
       " 'abacus\\n',\n",
       " 'abaft\\n',\n",
       " 'abalone\\n',\n",
       " 'abandon\\n',\n",
       " 'abandoned\\n',\n",
       " 'abandonment\\n']"
      ]
     },
     "execution_count": 12,
     "metadata": {},
     "output_type": "execute_result"
    }
   ],
   "source": [
    "words[0:10]"
   ]
  },
  {
   "cell_type": "markdown",
   "metadata": {},
   "source": [
    "## Data Preprocessing"
   ]
  },
  {
   "cell_type": "code",
   "execution_count": 72,
   "metadata": {},
   "outputs": [],
   "source": [
    "wordle_words=[]\n",
    "for i in range(len(words)):\n",
    "    words[i]=words[i][0:-1] #getting rid of the /n \n",
    "    if len(words[i])==5:\n",
    "        wordle_words.append(words[i])"
   ]
  },
  {
   "cell_type": "code",
   "execution_count": 73,
   "metadata": {},
   "outputs": [
    {
     "name": "stdout",
     "output_type": "stream",
     "text": [
      "number of initial words is: 58110\n",
      "number of five letter words is: 4266\n"
     ]
    },
    {
     "data": {
      "text/plain": [
       "['mason',\n",
       " 'masts',\n",
       " 'match',\n",
       " 'mated',\n",
       " 'mater',\n",
       " 'mates',\n",
       " 'maths',\n",
       " 'matte',\n",
       " 'mauls',\n",
       " 'mauve']"
      ]
     },
     "execution_count": 73,
     "metadata": {},
     "output_type": "execute_result"
    }
   ],
   "source": [
    "print('number of initial words is:', len(words))\n",
    "print('number of five letter words is:',len(wordle_words))\n",
    "wordle_words[2230:2240]"
   ]
  },
  {
   "cell_type": "markdown",
   "metadata": {},
   "source": [
    "## Algorithm Building"
   ]
  },
  {
   "cell_type": "code",
   "execution_count": 118,
   "metadata": {},
   "outputs": [],
   "source": [
    "def make_guess(wordle, guess):\n",
    "    results=[]\n",
    "    for i in range(len(wordle)):\n",
    "        if guess[i]==wordle[i]:\n",
    "            results.append(( guess[i], ': 🟩'))\n",
    "        elif guess[i] in wordle:\n",
    "            results.append(( guess[i], ': 🟨'))\n",
    "        else:\n",
    "            results.append(( guess[i], ': ⬜'))\n",
    "    if guess==wordle:\n",
    "        win= 1\n",
    "    else:\n",
    "        win=0\n",
    "    return(results, win)\n"
   ]
  },
  {
   "cell_type": "code",
   "execution_count": 114,
   "metadata": {},
   "outputs": [
    {
     "name": "stdout",
     "output_type": "stream",
     "text": [
      "a : ⬜\n",
      "d : ⬜\n",
      "i : ⬜\n",
      "e : 🟨\n",
      "u : ⬜\n"
     ]
    }
   ],
   "source": [
    "sample_wordle='hello'\n",
    "first_guess='adieu'\n",
    "x=make_guess(sample_wordle, first_guess)\n",
    "x"
   ]
  },
  {
   "cell_type": "code",
   "execution_count": 106,
   "metadata": {},
   "outputs": [],
   "source": [
    "def validate(word):\n",
    "    if word.lower() in wordle_words:\n",
    "        return word.lower()\n",
    "    else:\n",
    "        word=input('Word not in wordle words. Please enter a new word: ')\n",
    "        return validate(word)"
   ]
  },
  {
   "cell_type": "code",
   "execution_count": null,
   "metadata": {},
   "outputs": [],
   "source": [
    "sample_history=[]\n",
    "sample_results="
   ]
  },
  {
   "cell_type": "code",
   "execution_count": null,
   "metadata": {},
   "outputs": [],
   "source": [
    "def show_letters(history, results):\n",
    "    if history==[]:\n",
    "        \n",
    "    for letter in 'abcdefghijklmnopqrstuvwxyz':\n",
    "        "
   ]
  },
  {
   "cell_type": "code",
   "execution_count": 130,
   "metadata": {},
   "outputs": [],
   "source": [
    "def display_results(results):\n",
    "    for letter in results:\n",
    "        print(letter[0],letter[1])"
   ]
  },
  {
   "cell_type": "code",
   "execution_count": 131,
   "metadata": {},
   "outputs": [],
   "source": [
    "def play_wordle(wordle):\n",
    "    history=[]\n",
    "    \n",
    "    for Round in ['First','Second','Third', 'Fourth','Fifth','Sixth']:\n",
    "        guess=input('{} guess: '.format(Round))\n",
    "        guess= validate(guess)\n",
    "        results=make_guess(wordle, guess)[0]\n",
    "        display_results(results)\n",
    "        if results==1:\n",
    "            print('Congrats! You guessed the wordle!')\n",
    "            return 1\n",
    "        elif Round=='Sixth':\n",
    "            print( 'Ah, darn. The wordle was {}'.format(wordle))\n",
    "            return 0\n",
    "    "
   ]
  },
  {
   "cell_type": "code",
   "execution_count": 132,
   "metadata": {},
   "outputs": [],
   "source": [
    "def play_random_wordle():\n",
    "    import random\n",
    "    wordle=wordle_words[random.randint(0, len(wordle_words))]\n",
    "    play_wordle(wordle)"
   ]
  },
  {
   "cell_type": "code",
   "execution_count": 133,
   "metadata": {},
   "outputs": [
    {
     "name": "stdout",
     "output_type": "stream",
     "text": [
      "First guess: hello\n",
      "h : 🟨\n",
      "e : ⬜\n",
      "l : ⬜\n",
      "l : ⬜\n",
      "o : ⬜\n",
      "Second guess: shank\n",
      "s : ⬜\n",
      "h : 🟨\n",
      "a : 🟨\n",
      "n : ⬜\n",
      "k : ⬜\n",
      "Third guess: adieu\n",
      "a : 🟨\n",
      "d : ⬜\n",
      "i : ⬜\n",
      "e : ⬜\n",
      "u : ⬜\n",
      "Fourth guess: sport\n",
      "s : ⬜\n",
      "p : ⬜\n",
      "o : ⬜\n",
      "r : ⬜\n",
      "t : 🟨\n",
      "Fifth guess: ohnos\n",
      "Word not in wordle words. Please enter a new word: hello\n",
      "h : 🟨\n",
      "e : ⬜\n",
      "l : ⬜\n",
      "l : ⬜\n",
      "o : ⬜\n",
      "Sixth guess: hello\n",
      "h : 🟨\n",
      "e : ⬜\n",
      "l : ⬜\n",
      "l : ⬜\n",
      "o : ⬜\n",
      "Ah, darn. The wordle was watch\n"
     ]
    }
   ],
   "source": [
    "play_random_wordle()"
   ]
  },
  {
   "cell_type": "code",
   "execution_count": null,
   "metadata": {},
   "outputs": [],
   "source": []
  },
  {
   "cell_type": "code",
   "execution_count": null,
   "metadata": {},
   "outputs": [],
   "source": []
  }
 ],
 "metadata": {
  "kernelspec": {
   "display_name": "Python 3",
   "language": "python",
   "name": "python3"
  },
  "language_info": {
   "codemirror_mode": {
    "name": "ipython",
    "version": 3
   },
   "file_extension": ".py",
   "mimetype": "text/x-python",
   "name": "python",
   "nbconvert_exporter": "python",
   "pygments_lexer": "ipython3",
   "version": "3.8.6"
  }
 },
 "nbformat": 4,
 "nbformat_minor": 4
}
