{
 "cells": [
  {
   "cell_type": "markdown",
   "metadata": {},
   "source": [
    "# Wordle Cheater Data Preprocessing"
   ]
  },
  {
   "cell_type": "markdown",
   "metadata": {},
   "source": [
    "## Reading in the Data"
   ]
  },
  {
   "cell_type": "code",
   "execution_count": 69,
   "metadata": {},
   "outputs": [],
   "source": [
    "fname='corncob_lowercase.txt'\n",
    "file=open(fname,'r')\n",
    "words=file.readlines()"
   ]
  },
  {
   "cell_type": "code",
   "execution_count": 12,
   "metadata": {},
   "outputs": [
    {
     "data": {
      "text/plain": [
       "['aardvark\\n',\n",
       " 'aardwolf\\n',\n",
       " 'aaron\\n',\n",
       " 'aback\\n',\n",
       " 'abacus\\n',\n",
       " 'abaft\\n',\n",
       " 'abalone\\n',\n",
       " 'abandon\\n',\n",
       " 'abandoned\\n',\n",
       " 'abandonment\\n']"
      ]
     },
     "execution_count": 12,
     "metadata": {},
     "output_type": "execute_result"
    }
   ],
   "source": [
    "words[0:10]"
   ]
  },
  {
   "cell_type": "markdown",
   "metadata": {},
   "source": [
    "## Data Preprocessing"
   ]
  },
  {
   "cell_type": "code",
   "execution_count": 72,
   "metadata": {},
   "outputs": [],
   "source": [
    "wordle_words=[]\n",
    "for i in range(len(words)):\n",
    "    words[i]=words[i][0:-1] #getting rid of the /n \n",
    "    if len(words[i])==5:\n",
    "        wordle_words.append(words[i])"
   ]
  },
  {
   "cell_type": "code",
   "execution_count": 73,
   "metadata": {},
   "outputs": [
    {
     "name": "stdout",
     "output_type": "stream",
     "text": [
      "number of initial words is: 58110\n",
      "number of five letter words is: 4266\n"
     ]
    },
    {
     "data": {
      "text/plain": [
       "['mason',\n",
       " 'masts',\n",
       " 'match',\n",
       " 'mated',\n",
       " 'mater',\n",
       " 'mates',\n",
       " 'maths',\n",
       " 'matte',\n",
       " 'mauls',\n",
       " 'mauve']"
      ]
     },
     "execution_count": 73,
     "metadata": {},
     "output_type": "execute_result"
    }
   ],
   "source": [
    "print('number of initial words is:', len(words))\n",
    "print('number of five letter words is:',len(wordle_words))\n",
    "wordle_words[2230:2240]"
   ]
  },
  {
   "cell_type": "markdown",
   "metadata": {},
   "source": [
    "## Algorithm Building"
   ]
  },
  {
   "cell_type": "code",
   "execution_count": 134,
   "metadata": {},
   "outputs": [],
   "source": [
    "def make_guess(wordle, guess):\n",
    "    results=[]\n",
    "    for i in range(len(wordle)):\n",
    "        if guess[i]==wordle[i]:\n",
    "            results.append(( guess[i], ': 🟩'))\n",
    "        elif guess[i] in wordle:\n",
    "            results.append(( guess[i], ': 🟨'))\n",
    "        else:\n",
    "            results.append(( guess[i], ': ⬜'))\n",
    "    if guess==wordle:\n",
    "        win= 1\n",
    "    else:\n",
    "        win=0\n",
    "    return(results, win)\n"
   ]
  },
  {
   "cell_type": "code",
   "execution_count": 106,
   "metadata": {},
   "outputs": [],
   "source": [
    "def validate(word):\n",
    "    if word.lower() in wordle_words:\n",
    "        return word.lower()\n",
    "    else:\n",
    "        word=input('Word not in wordle words. Please enter a new word: ')\n",
    "        return validate(word)"
   ]
  },
  {
   "cell_type": "code",
   "execution_count": 190,
   "metadata": {},
   "outputs": [],
   "source": [
    "def update_history(history, results):\n",
    "    if history=={}:\n",
    "        #create dictionary of letters\n",
    "        alph='abcdefghijklmnopqrstuvwxyz'\n",
    "        for letter in alph:\n",
    "            history[letter]=''\n",
    "        #update dictionary based on results\n",
    "        for result in results:\n",
    "            letter=result[0]\n",
    "            status=result[1]\n",
    "            history[letter]=status\n",
    "    else:\n",
    "        #update dictionary based on results\n",
    "        for result in results:\n",
    "            letter=result[0]\n",
    "            status=result[1]\n",
    "            if history[letter]=='🟩' and status =='🟨':\n",
    "                pass #won't update a green to a yellow\n",
    "            else:\n",
    "                history[letter]=status \n",
    "    return history"
   ]
  },
  {
   "cell_type": "code",
   "execution_count": 174,
   "metadata": {},
   "outputs": [],
   "source": [
    "def display_history(history):\n",
    "    printed_history=''\n",
    "    for key in history:\n",
    "        printed_history=printed_history+ key+ history[key]+ \"  \"\n",
    "    print(printed_history)"
   ]
  },
  {
   "cell_type": "code",
   "execution_count": 130,
   "metadata": {},
   "outputs": [],
   "source": [
    "def display_results(results):\n",
    "    for letter in results:\n",
    "        print(letter[0],letter[1])"
   ]
  },
  {
   "cell_type": "code",
   "execution_count": 193,
   "metadata": {},
   "outputs": [],
   "source": [
    "def play_wordle(wordle, show_history='on'):\n",
    "    history={}\n",
    "    \n",
    "    for Round in ['First','Second','Third', 'Fourth','Fifth','Sixth']:\n",
    "        guess=input('{} guess: '.format(Round))\n",
    "        guess= validate(guess)\n",
    "        results, win=make_guess(wordle, guess)\n",
    "        display_results(results)\n",
    "        history=update_history(history, results)\n",
    "        if show_history=='on':\n",
    "            display_history(history)\n",
    "        if win==1:\n",
    "            print('Congrats! You guessed the wordle!')\n",
    "            return 1\n",
    "        elif Round=='Sixth':\n",
    "            print( 'Ah, darn. The wordle was {}'.format(wordle))\n",
    "            return 0\n",
    "    "
   ]
  },
  {
   "cell_type": "code",
   "execution_count": 194,
   "metadata": {},
   "outputs": [],
   "source": [
    "def play_random_wordle(show_history='on'):\n",
    "    import random\n",
    "    wordle=wordle_words[random.randint(0, len(wordle_words))]\n",
    "    play_wordle(wordle,show_history)"
   ]
  },
  {
   "cell_type": "code",
   "execution_count": 189,
   "metadata": {},
   "outputs": [
    {
     "name": "stdout",
     "output_type": "stream",
     "text": [
      "s : ⬜\n",
      "p : ⬜\n",
      "o : 🟨\n",
      "r : ⬜\n",
      "t : ⬜\n"
     ]
    }
   ],
   "source": [
    "sample_wordle='hello'\n",
    "first_guess='adieu'\n",
    "second_guess='sport'\n",
    "results, win=make_guess(sample_wordle, first_guess)\n",
    "results2, win2=make_guess(sample_wordle, second_guess)\n",
    "#display_results(results)\n",
    "display_results(results2)"
   ]
  },
  {
   "cell_type": "code",
   "execution_count": 191,
   "metadata": {
    "collapsed": true
   },
   "outputs": [
    {
     "data": {
      "text/plain": [
       "{'a': ': ⬜',\n",
       " 'b': '',\n",
       " 'c': '',\n",
       " 'd': ': ⬜',\n",
       " 'e': ': 🟨',\n",
       " 'f': '',\n",
       " 'g': '',\n",
       " 'h': '',\n",
       " 'i': ': ⬜',\n",
       " 'j': '',\n",
       " 'k': '',\n",
       " 'l': '',\n",
       " 'm': '',\n",
       " 'n': '',\n",
       " 'o': ': 🟨',\n",
       " 'p': ': ⬜',\n",
       " 'q': '',\n",
       " 'r': ': ⬜',\n",
       " 's': ': ⬜',\n",
       " 't': ': ⬜',\n",
       " 'u': ': ⬜',\n",
       " 'v': '',\n",
       " 'w': '',\n",
       " 'x': '',\n",
       " 'y': '',\n",
       " 'z': ''}"
      ]
     },
     "execution_count": 191,
     "metadata": {},
     "output_type": "execute_result"
    }
   ],
   "source": [
    "sample_history=[]\n",
    "sample_results=results\n",
    "history1=update_history({},results)\n",
    "history2=update_history(history1,results2)\n",
    "history2"
   ]
  },
  {
   "cell_type": "code",
   "execution_count": 246,
   "metadata": {
    "scrolled": true
   },
   "outputs": [
    {
     "name": "stdout",
     "output_type": "stream",
     "text": [
      "First guess: adieu\n",
      "a : 🟩\n",
      "d : ⬜\n",
      "i : ⬜\n",
      "e : 🟩\n",
      "u : ⬜\n",
      "a: 🟩  b  c  d: ⬜  e: 🟩  f  g  h  i: ⬜  j  k  l  m  n  o  p  q  r  s  t  u: ⬜  v  w  x  y  z  \n",
      "Second guess: sport\n",
      "s : ⬜\n",
      "p : ⬜\n",
      "o : ⬜\n",
      "r : ⬜\n",
      "t : ⬜\n",
      "a: 🟩  b  c  d: ⬜  e: 🟩  f  g  h  i: ⬜  j  k  l  m  n  o: ⬜  p: ⬜  q  r: ⬜  s: ⬜  t: ⬜  u: ⬜  v  w  x  y  z  \n",
      "Third guess: athen\n",
      "Word not in wordle words. Please enter a new word: apnea\n",
      "a : 🟩\n",
      "p : ⬜\n",
      "n : 🟩\n",
      "e : 🟩\n",
      "a : 🟨\n",
      "a: 🟨  b  c  d: ⬜  e: 🟩  f  g  h  i: ⬜  j  k  l  m  n: 🟩  o: ⬜  p: ⬜  q  r: ⬜  s: ⬜  t: ⬜  u: ⬜  v  w  x  y  z  \n",
      "Fourth guess: annex\n",
      "a : 🟩\n",
      "n : 🟩\n",
      "n : 🟩\n",
      "e : 🟩\n",
      "x : 🟩\n",
      "a: 🟩  b  c  d: ⬜  e: 🟩  f  g  h  i: ⬜  j  k  l  m  n: 🟩  o: ⬜  p: ⬜  q  r: ⬜  s: ⬜  t: ⬜  u: ⬜  v  w  x: 🟩  y  z  \n",
      "Congrats! You guessed the wordle!\n"
     ]
    }
   ],
   "source": [
    "play_random_wordle()"
   ]
  },
  {
   "cell_type": "markdown",
   "metadata": {},
   "source": [
    "## Cheating Algorithm"
   ]
  },
  {
   "cell_type": "code",
   "execution_count": 200,
   "metadata": {},
   "outputs": [
    {
     "data": {
      "text/plain": [
       "{'a': ': ⬜',\n",
       " 'b': '',\n",
       " 'c': '',\n",
       " 'd': ': ⬜',\n",
       " 'e': ': 🟨',\n",
       " 'f': '',\n",
       " 'g': '',\n",
       " 'h': '',\n",
       " 'i': ': ⬜',\n",
       " 'j': '',\n",
       " 'k': '',\n",
       " 'l': '',\n",
       " 'm': '',\n",
       " 'n': '',\n",
       " 'o': ': 🟨',\n",
       " 'p': ': ⬜',\n",
       " 'q': '',\n",
       " 'r': ': ⬜',\n",
       " 's': ': ⬜',\n",
       " 't': ': ⬜',\n",
       " 'u': ': ⬜',\n",
       " 'v': '',\n",
       " 'w': '',\n",
       " 'x': '',\n",
       " 'y': '',\n",
       " 'z': ''}"
      ]
     },
     "execution_count": 200,
     "metadata": {},
     "output_type": "execute_result"
    }
   ],
   "source": [
    "history1"
   ]
  },
  {
   "cell_type": "code",
   "execution_count": 230,
   "metadata": {},
   "outputs": [
    {
     "name": "stdout",
     "output_type": "stream",
     "text": [
      "this could be a word\n"
     ]
    }
   ],
   "source": [
    "sample_gray=['a', 'd', 'i', 'p', 'r', 's', 't', 'u']\n",
    "sample_yellow=['e', 'o']\n",
    "sample_word='hello'\n",
    "if len(set(sample_gray).intersection(set(sample_word)))>=1:\n",
    "    print('cant be the word, theres a gray letter in this word')\n",
    "elif len(set(sample_yellow).intersection(set(sample_word)))>=len(set(sample_yellow)):\n",
    "    print('this could be a word')"
   ]
  },
  {
   "cell_type": "markdown",
   "metadata": {},
   "source": [
    "### Meat"
   ]
  },
  {
   "cell_type": "code",
   "execution_count": 235,
   "metadata": {},
   "outputs": [],
   "source": [
    "def give_suggestions(history):\n",
    "    gray=[]\n",
    "    yellow=[]\n",
    "    green=[]\n",
    "    for key in history:\n",
    "        if history[key]==': ⬜':\n",
    "            gray.append(key)\n",
    "        elif history[key]==': 🟨':\n",
    "            yellow.append(key)\n",
    "        elif history[key]==': 🟩':\n",
    "            green.append(key)\n",
    "\n",
    "    suggestions=[]\n",
    "    for word in wordle_words:\n",
    "        ##weeds out any words that have gray letters in them\n",
    "        if len(set(gray).intersection(set(word)))>=1:\n",
    "            pass\n",
    "        ##finds words that have yellow letters in them\n",
    "        elif len(set(yellow).intersection(set(word)))>=len(set(yellow)):\n",
    "            suggestions.append(word)\n",
    "        \n",
    "    return suggestions\n",
    "            \n",
    "        "
   ]
  },
  {
   "cell_type": "markdown",
   "metadata": {},
   "source": [
    "### More Testing"
   ]
  },
  {
   "cell_type": "code",
   "execution_count": null,
   "metadata": {},
   "outputs": [],
   "source": [
    "sample_wordle='hello'\n",
    "first_guess='adieu'\n",
    "second_guess='sport'\n",
    "results, win=make_guess(sample_wordle, first_guess)\n",
    "results2, win2=make_guess(sample_wordle, second_guess)\n",
    "#display_results(results)\n",
    "display_results(results2)"
   ]
  },
  {
   "cell_type": "code",
   "execution_count": 247,
   "metadata": {},
   "outputs": [
    {
     "data": {
      "text/plain": [
       "{'a': ': ⬜',\n",
       " 'b': '',\n",
       " 'c': '',\n",
       " 'd': ': ⬜',\n",
       " 'e': ': 🟨',\n",
       " 'f': '',\n",
       " 'g': '',\n",
       " 'h': '',\n",
       " 'i': ': ⬜',\n",
       " 'j': '',\n",
       " 'k': '',\n",
       " 'l': '',\n",
       " 'm': '',\n",
       " 'n': '',\n",
       " 'o': ': 🟨',\n",
       " 'p': ': ⬜',\n",
       " 'q': '',\n",
       " 'r': ': ⬜',\n",
       " 's': ': ⬜',\n",
       " 't': ': ⬜',\n",
       " 'u': ': ⬜',\n",
       " 'v': '',\n",
       " 'w': '',\n",
       " 'x': '',\n",
       " 'y': '',\n",
       " 'z': ''}"
      ]
     },
     "execution_count": 247,
     "metadata": {},
     "output_type": "execute_result"
    }
   ],
   "source": [
    "sample_history=[]\n",
    "sample_results=results\n",
    "history1=update_history({},results)\n",
    "history2=update_history(history1,results2)\n",
    "history2"
   ]
  },
  {
   "cell_type": "code",
   "execution_count": 249,
   "metadata": {},
   "outputs": [
    {
     "data": {
      "text/plain": [
       "['apses',\n",
       " 'capes',\n",
       " 'gapes',\n",
       " 'heaps',\n",
       " 'japes',\n",
       " 'lapse',\n",
       " 'leaps',\n",
       " 'paces',\n",
       " 'pages',\n",
       " 'pales',\n",
       " 'panes',\n",
       " 'passe',\n",
       " 'paves',\n",
       " 'peaks',\n",
       " 'peals',\n",
       " 'phase',\n",
       " 'pleas',\n",
       " 'scape',\n",
       " 'shape',\n",
       " 'space',\n",
       " 'speak']"
      ]
     },
     "execution_count": 249,
     "metadata": {},
     "output_type": "execute_result"
    }
   ],
   "source": [
    "test=give_suggestions(a)\n",
    "test"
   ]
  },
  {
   "cell_type": "markdown",
   "metadata": {},
   "source": [
    "## Code Graveyard"
   ]
  },
  {
   "cell_type": "code",
   "execution_count": null,
   "metadata": {},
   "outputs": [],
   "source": []
  }
 ],
 "metadata": {
  "kernelspec": {
   "display_name": "Python 3",
   "language": "python",
   "name": "python3"
  },
  "language_info": {
   "codemirror_mode": {
    "name": "ipython",
    "version": 3
   },
   "file_extension": ".py",
   "mimetype": "text/x-python",
   "name": "python",
   "nbconvert_exporter": "python",
   "pygments_lexer": "ipython3",
   "version": "3.8.6"
  }
 },
 "nbformat": 4,
 "nbformat_minor": 4
}
