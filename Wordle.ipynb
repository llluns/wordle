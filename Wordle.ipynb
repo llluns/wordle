{
 "cells": [
  {
   "cell_type": "markdown",
   "metadata": {},
   "source": [
    "# Wordle Cheater Data Preprocessing"
   ]
  },
  {
   "cell_type": "markdown",
   "metadata": {},
   "source": [
    "## Reading in the Data"
   ]
  },
  {
   "cell_type": "code",
   "execution_count": 1,
   "metadata": {},
   "outputs": [],
   "source": [
    "fname='corncob_lowercase.txt'\n",
    "file=open(fname,'r')\n",
    "words=file.readlines()"
   ]
  },
  {
   "cell_type": "code",
   "execution_count": 2,
   "metadata": {},
   "outputs": [
    {
     "data": {
      "text/plain": [
       "['aardvark\\n',\n",
       " 'aardwolf\\n',\n",
       " 'aaron\\n',\n",
       " 'aback\\n',\n",
       " 'abacus\\n',\n",
       " 'abaft\\n',\n",
       " 'abalone\\n',\n",
       " 'abandon\\n',\n",
       " 'abandoned\\n',\n",
       " 'abandonment\\n']"
      ]
     },
     "execution_count": 2,
     "metadata": {},
     "output_type": "execute_result"
    }
   ],
   "source": [
    "words[0:10]"
   ]
  },
  {
   "cell_type": "markdown",
   "metadata": {},
   "source": [
    "## Data Preprocessing"
   ]
  },
  {
   "cell_type": "code",
   "execution_count": 3,
   "metadata": {},
   "outputs": [],
   "source": [
    "wordle_words=[]\n",
    "for i in range(len(words)):\n",
    "    words[i]=words[i][0:-1] #getting rid of the /n \n",
    "    if len(words[i])==5:\n",
    "        wordle_words.append(words[i])"
   ]
  },
  {
   "cell_type": "code",
   "execution_count": 4,
   "metadata": {},
   "outputs": [
    {
     "name": "stdout",
     "output_type": "stream",
     "text": [
      "number of initial words is: 58110\n",
      "number of five letter words is: 4266\n"
     ]
    },
    {
     "data": {
      "text/plain": [
       "['mason',\n",
       " 'masts',\n",
       " 'match',\n",
       " 'mated',\n",
       " 'mater',\n",
       " 'mates',\n",
       " 'maths',\n",
       " 'matte',\n",
       " 'mauls',\n",
       " 'mauve']"
      ]
     },
     "execution_count": 4,
     "metadata": {},
     "output_type": "execute_result"
    }
   ],
   "source": [
    "print('number of initial words is:', len(words))\n",
    "print('number of five letter words is:',len(wordle_words))\n",
    "wordle_words[2230:2240]"
   ]
  },
  {
   "cell_type": "markdown",
   "metadata": {},
   "source": [
    "## Algorithm Building"
   ]
  },
  {
   "cell_type": "code",
   "execution_count": 17,
   "metadata": {},
   "outputs": [],
   "source": [
    "def make_guess(wordle, guess):\n",
    "    results=[]\n",
    "    for i in range(len(wordle)):\n",
    "        if guess[i]==wordle[i]:\n",
    "            results.append((i, guess[i], ': 🟩'))\n",
    "        elif guess[i] in wordle:\n",
    "            results.append((i, guess[i], ': 🟨'))\n",
    "        else:\n",
    "            results.append((i, guess[i], ': ⬜'))\n",
    "    if guess==wordle:\n",
    "        win= 1\n",
    "    else:\n",
    "        win=0\n",
    "    return(results, win)\n"
   ]
  },
  {
   "cell_type": "code",
   "execution_count": 18,
   "metadata": {},
   "outputs": [
    {
     "data": {
      "text/plain": [
       "([(0, 'a', ': ⬜'),\n",
       "  (1, 'd', ': ⬜'),\n",
       "  (2, 'i', ': ⬜'),\n",
       "  (3, 'e', ': 🟨'),\n",
       "  (4, 'u', ': ⬜')],\n",
       " 0)"
      ]
     },
     "execution_count": 18,
     "metadata": {},
     "output_type": "execute_result"
    }
   ],
   "source": [
    "make_guess('hello','adieu')"
   ]
  },
  {
   "cell_type": "code",
   "execution_count": 19,
   "metadata": {},
   "outputs": [],
   "source": [
    "def validate(word):\n",
    "    if word.lower() in wordle_words:\n",
    "        return word.lower()\n",
    "    else:\n",
    "        word=input('Word not in wordle words. Please enter a new word: ')\n",
    "        return validate(word)"
   ]
  },
  {
   "cell_type": "code",
   "execution_count": 21,
   "metadata": {},
   "outputs": [
    {
     "name": "stdout",
     "output_type": "stream",
     "text": [
      "Word not in wordle words. Please enter a new word: adieu\n"
     ]
    },
    {
     "data": {
      "text/plain": [
       "'adieu'"
      ]
     },
     "execution_count": 21,
     "metadata": {},
     "output_type": "execute_result"
    }
   ],
   "source": [
    "validate('adi-eu')"
   ]
  },
  {
   "cell_type": "code",
   "execution_count": 118,
   "metadata": {},
   "outputs": [],
   "source": [
    "def update_history(history, results):\n",
    "    if history=={}:\n",
    "        #create dictionary\n",
    "        for i in range(5):\n",
    "            history[i]=[]\n",
    "        \n",
    "    #update dictionary based on results \n",
    "    for result in results:\n",
    "        index, letter, status = result\n",
    "        history[index].append((letter, status))\n",
    "    return history\n",
    "        \n"
   ]
  },
  {
   "cell_type": "code",
   "execution_count": 49,
   "metadata": {},
   "outputs": [],
   "source": [
    "def display_history(history):\n",
    "    #putting it into printable format\n",
    "    printed_history=''\n",
    "    for key in history:\n",
    "        printed_history=printed_history+ str(key)+ str(history[key])+ \"  \"\n",
    "    print(printed_history)"
   ]
  },
  {
   "cell_type": "code",
   "execution_count": 64,
   "metadata": {},
   "outputs": [],
   "source": [
    "def display_keyboard(history):\n",
    "     #alphabetizing history\n",
    "    alpha={}\n",
    "    alphabet='abcdefghijklmnopqrstuvwxyz'\n",
    "    for letter in alphabet:\n",
    "        alpha[letter]=''\n",
    "    for key in history:\n",
    "        for letter, status in history[key]:\n",
    "        \n",
    "            if alpha[letter]=='':\n",
    "                alpha[letter]=status\n",
    "            else:\n",
    "                if alpha[letter]==': 🟩':\n",
    "                    pass\n",
    "                elif alpha[letter]==': 🟨':\n",
    "                    if status ==': 🟩':\n",
    "                        alpha[letter]=status\n",
    "                    else:\n",
    "                        pass\n",
    "                \n",
    "    \n",
    "    printed_history=''\n",
    "    for key in alpha:\n",
    "        printed_history=printed_history+ key+ alpha[key]+ \"  \"\n",
    "    print(printed_history)"
   ]
  },
  {
   "cell_type": "code",
   "execution_count": 32,
   "metadata": {},
   "outputs": [],
   "source": [
    "def display_results(results):\n",
    "    for letter in results:\n",
    "        print(letter[1],letter[2])"
   ]
  },
  {
   "cell_type": "code",
   "execution_count": 97,
   "metadata": {},
   "outputs": [
    {
     "name": "stdout",
     "output_type": "stream",
     "text": [
      "s : ⬜\n",
      "p : ⬜\n",
      "o : 🟨\n",
      "r : ⬜\n",
      "t : ⬜\n"
     ]
    }
   ],
   "source": [
    "sample_wordle='hello'\n",
    "first_guess='adieu'\n",
    "second_guess='sport'\n",
    "results, win=make_guess(sample_wordle, first_guess)\n",
    "results2, win2=make_guess(sample_wordle, second_guess)\n",
    "#display_results(results)\n",
    "display_results(results2)"
   ]
  },
  {
   "cell_type": "code",
   "execution_count": 113,
   "metadata": {},
   "outputs": [],
   "source": [
    "def play_wordle(wordle, show_keyboard='on', show_history='off'):\n",
    "    history={}\n",
    "    \n",
    "    for Round in ['First','Second','Third', 'Fourth','Fifth','Sixth']:\n",
    "        guess=input('{} guess: '.format(Round))\n",
    "        guess= validate(guess)\n",
    "        results, win=make_guess(wordle, guess)\n",
    "        display_results(results)\n",
    "        history=update_history(history, results)\n",
    "        if show_history=='on':\n",
    "            display_history(history)\n",
    "        if show_keyboard=='on':\n",
    "            display_keyboard(history)\n",
    "        if win==1:\n",
    "            print('Congrats! You guessed the wordle!')\n",
    "            return 1\n",
    "        elif Round=='Sixth':\n",
    "            print( 'Ah, darn. The wordle was {}'.format(wordle))\n",
    "            return 0\n",
    "    "
   ]
  },
  {
   "cell_type": "code",
   "execution_count": 66,
   "metadata": {},
   "outputs": [],
   "source": [
    "def play_random_wordle(show_keyboard='on', show_history='off'):\n",
    "    import random\n",
    "    wordle=wordle_words[random.randint(0, len(wordle_words))]\n",
    "    play_wordle(wordle, show_keyboard, show_history)"
   ]
  },
  {
   "cell_type": "code",
   "execution_count": 101,
   "metadata": {},
   "outputs": [
    {
     "data": {
      "text/plain": [
       "{0: [('a', ': ⬜'), ('s', ': ⬜')],\n",
       " 1: [('d', ': ⬜'), ('p', ': ⬜')],\n",
       " 2: [('i', ': ⬜'), ('o', ': 🟨')],\n",
       " 3: [('e', ': 🟨'), ('r', ': ⬜')],\n",
       " 4: [('u', ': ⬜'), ('t', ': ⬜')]}"
      ]
     },
     "execution_count": 101,
     "metadata": {},
     "output_type": "execute_result"
    }
   ],
   "source": [
    "sample_results=results\n",
    "history1=update_history({},results)\n",
    "history2=update_history(history1,results2)\n",
    "history2"
   ]
  },
  {
   "cell_type": "code",
   "execution_count": 67,
   "metadata": {
    "scrolled": true
   },
   "outputs": [
    {
     "name": "stdout",
     "output_type": "stream",
     "text": [
      "First guess: adieu\n",
      "a : ⬜\n",
      "d : ⬜\n",
      "i : 🟩\n",
      "e : ⬜\n",
      "u : ⬜\n",
      "a: ⬜  b  c  d: ⬜  e: ⬜  f  g  h  i: 🟩  j  k  l  m  n  o  p  q  r  s  t  u: ⬜  v  w  x  y  z  \n",
      "Second guess: sport\n",
      "s : 🟩\n",
      "p : ⬜\n",
      "o : ⬜\n",
      "r : 🟩\n",
      "t : ⬜\n",
      "a: ⬜  b  c  d: ⬜  e: ⬜  f  g  h  i: 🟩  j  k  l  m  n  o: ⬜  p: ⬜  q  r: 🟩  s: 🟩  t: ⬜  u: ⬜  v  w  x  y  z  \n",
      "Third guess: shirt\n",
      "s : 🟩\n",
      "h : ⬜\n",
      "i : 🟩\n",
      "r : 🟩\n",
      "t : ⬜\n",
      "a: ⬜  b  c  d: ⬜  e: ⬜  f  g  h: ⬜  i: 🟩  j  k  l  m  n  o: ⬜  p: ⬜  q  r: 🟩  s: 🟩  t: ⬜  u: ⬜  v  w  x  y  z  \n",
      "Fourth guess: skirm\n",
      "Word not in wordle words. Please enter a new word: stirs\n",
      "s : 🟩\n",
      "t : ⬜\n",
      "i : 🟩\n",
      "r : 🟩\n",
      "s : 🟨\n",
      "a: ⬜  b  c  d: ⬜  e: ⬜  f  g  h: ⬜  i: 🟩  j  k  l  m  n  o: ⬜  p: ⬜  q  r: 🟩  s: 🟩  t: ⬜  u: ⬜  v  w  x  y  z  \n",
      "Fifth guess: stiry\n",
      "Word not in wordle words. Please enter a new word: smirk\n",
      "s : 🟩\n",
      "m : 🟩\n",
      "i : 🟩\n",
      "r : 🟩\n",
      "k : 🟩\n",
      "a: ⬜  b  c  d: ⬜  e: ⬜  f  g  h: ⬜  i: 🟩  j  k: 🟩  l  m: 🟩  n  o: ⬜  p: ⬜  q  r: 🟩  s: 🟩  t: ⬜  u: ⬜  v  w  x  y  z  \n",
      "Congrats! You guessed the wordle!\n"
     ]
    }
   ],
   "source": [
    "play_random_wordle()"
   ]
  },
  {
   "cell_type": "markdown",
   "metadata": {},
   "source": [
    "## Cheating Algorithm"
   ]
  },
  {
   "cell_type": "code",
   "execution_count": 68,
   "metadata": {},
   "outputs": [
    {
     "data": {
      "text/plain": [
       "{0: [('a', ': ⬜'), ('s', ': ⬜')],\n",
       " 1: [('d', ': ⬜'), ('p', ': ⬜')],\n",
       " 2: [('i', ': ⬜'), ('o', ': 🟨')],\n",
       " 3: [('e', ': 🟨'), ('r', ': ⬜')],\n",
       " 4: [('u', ': ⬜'), ('t', ': ⬜')]}"
      ]
     },
     "execution_count": 68,
     "metadata": {},
     "output_type": "execute_result"
    }
   ],
   "source": [
    "history1"
   ]
  },
  {
   "cell_type": "code",
   "execution_count": 230,
   "metadata": {},
   "outputs": [
    {
     "name": "stdout",
     "output_type": "stream",
     "text": [
      "this could be a word\n"
     ]
    }
   ],
   "source": [
    "sample_gray=['a', 'd', 'i', 'p', 'r', 's', 't', 'u']\n",
    "sample_yellow=['e', 'o']\n",
    "sample_word='hello'\n",
    "if len(set(sample_gray).intersection(set(sample_word)))>=1:\n",
    "    print('cant be the word, theres a gray letter in this word')\n",
    "elif len(set(sample_yellow).intersection(set(sample_word)))>=len(set(sample_yellow)):\n",
    "    print('this could be a word')"
   ]
  },
  {
   "cell_type": "markdown",
   "metadata": {},
   "source": [
    "### Meat"
   ]
  },
  {
   "cell_type": "code",
   "execution_count": 207,
   "metadata": {},
   "outputs": [],
   "source": [
    "def give_suggestions(history):\n",
    "    gray={}\n",
    "    yellow={}\n",
    "    green={}\n",
    "    for index in history:\n",
    "        for letter, status in history[index]:\n",
    "            if status==': ⬜':\n",
    "                if letter in gray:\n",
    "                    gray[letter].add(index)\n",
    "                else:\n",
    "                    gray[letter]={index}\n",
    "            elif status==': 🟨':\n",
    "                if letter in yellow:\n",
    "                    yellow[letter].add(index)\n",
    "                else:\n",
    "                    yellow[letter]={index}\n",
    "            elif status==': 🟩':\n",
    "                if letter in green:\n",
    "                    green[letter].add(index)\n",
    "                else:\n",
    "                    green[letter]={index}\n",
    "\n",
    "    filtered=[]\n",
    "    included_letters=set(yellow).union(set(green))\n",
    "    #if you have mulitple letters in a word (seats) but only one of that letter exists\n",
    "    #in the wordle (phase) it will give one gray and one yellow so need to accomodate\n",
    "    #for that\n",
    "    excluded_letters=set(gray).difference(set(green))\n",
    "    excluded_letters=excluded_letters.difference(set(yellow))\n",
    "\n",
    "    for word in wordle_words:\n",
    "        ##weeds out any words that have gray letters in them\n",
    "        if len(set(excluded_letters).intersection(set(word)))>=1:\n",
    "            pass\n",
    "        ##finds words that have yellow letters in them\n",
    "        elif len(included_letters.intersection(set(word)))>=len(included_letters):\n",
    "            filtered.append(word)\n",
    "            \n",
    "    for word in filtered:\n",
    "        for i in range(5):\n",
    "            if word[i] in yellow:\n",
    "                if yellow[word[i]]==i: #if the letter \n",
    "                    filtered.remove(word)\n",
    "    return filtered, gray, yellow, green\n",
    "            "
   ]
  },
  {
   "cell_type": "code",
   "execution_count": 214,
   "metadata": {},
   "outputs": [
    {
     "data": {
      "text/plain": [
       "['abase',\n",
       " 'abies',\n",
       " 'abuse',\n",
       " 'aches',\n",
       " 'aegis',\n",
       " 'aisle',\n",
       " 'amens',\n",
       " 'amuse',\n",
       " 'anise',\n",
       " 'apses',\n",
       " 'ashen',\n",
       " 'ashes',\n",
       " 'asses',\n",
       " 'avens',\n",
       " 'axles',\n",
       " 'babes',\n",
       " 'bakes',\n",
       " 'bales',\n",
       " 'bases',\n",
       " 'beaks',\n",
       " 'beams',\n",
       " 'beans',\n",
       " 'beaus',\n",
       " 'blase',\n",
       " 'cafes',\n",
       " 'cages',\n",
       " 'cakes',\n",
       " 'canes',\n",
       " 'capes',\n",
       " 'cases',\n",
       " 'cause',\n",
       " 'caves',\n",
       " 'cease',\n",
       " 'chase',\n",
       " 'easel',\n",
       " 'eases',\n",
       " 'eaves',\n",
       " 'essay',\n",
       " 'exams',\n",
       " 'faces',\n",
       " 'fakes',\n",
       " 'false',\n",
       " 'faxes',\n",
       " 'fleas',\n",
       " 'gales',\n",
       " 'games',\n",
       " 'gapes',\n",
       " 'gases',\n",
       " 'gazes',\n",
       " 'haves',\n",
       " 'heals',\n",
       " 'heaps',\n",
       " 'james',\n",
       " 'japes',\n",
       " 'jeans',\n",
       " 'laces',\n",
       " 'lakes',\n",
       " 'lanes',\n",
       " 'lapse',\n",
       " 'leaks',\n",
       " 'leans',\n",
       " 'leaps',\n",
       " 'lease',\n",
       " 'leash',\n",
       " 'maces',\n",
       " 'makes',\n",
       " 'males',\n",
       " 'manes',\n",
       " 'manse',\n",
       " 'mazes',\n",
       " 'meals',\n",
       " 'means',\n",
       " 'names',\n",
       " 'paces',\n",
       " 'pages',\n",
       " 'pales',\n",
       " 'panes',\n",
       " 'passe',\n",
       " 'pause',\n",
       " 'paves',\n",
       " 'peaks',\n",
       " 'peals',\n",
       " 'phase',\n",
       " 'pleas',\n",
       " 'sable',\n",
       " 'safes',\n",
       " 'sages',\n",
       " 'sakes',\n",
       " 'salem',\n",
       " 'sales',\n",
       " 'salve',\n",
       " 'sauce',\n",
       " 'saves',\n",
       " 'scale',\n",
       " 'scape',\n",
       " 'seals',\n",
       " 'seams',\n",
       " 'seamy',\n",
       " 'sepia',\n",
       " 'shake',\n",
       " 'shale',\n",
       " 'shame',\n",
       " 'shape',\n",
       " 'shave',\n",
       " 'sheaf',\n",
       " 'slake',\n",
       " 'slave',\n",
       " 'snake',\n",
       " 'sneak',\n",
       " 'space',\n",
       " 'speak',\n",
       " 'suave',\n",
       " 'usage',\n",
       " 'vales',\n",
       " 'vanes',\n",
       " 'vases',\n",
       " 'zeals']"
      ]
     },
     "execution_count": 214,
     "metadata": {},
     "output_type": "execute_result"
    }
   ],
   "source": [
    "filtered=[]\n",
    "\n",
    "for word in wordle_words:\n",
    "    if len(set(excluded_letters).intersection(set(word)))>=1:\n",
    "        pass\n",
    "    elif len(included_letters.intersection(set(word)))>=len(included_letters):\n",
    "            filtered.append(word)\n",
    "filtered"
   ]
  },
  {
   "cell_type": "code",
   "execution_count": 202,
   "metadata": {},
   "outputs": [
    {
     "data": {
      "text/plain": [
       "{'d', 'o', 'r', 't', 'w'}"
      ]
     },
     "execution_count": 202,
     "metadata": {},
     "output_type": "execute_result"
    }
   ],
   "source": [
    "included_letters=set(yellow).union(set(green))\n",
    "included_letters\n",
    "\n",
    "excluded_letters=set(gray).difference(set(green))\n",
    "excluded_letters=excluded_letters.difference(set(yellow))\n",
    "excluded_letters"
   ]
  },
  {
   "cell_type": "code",
   "execution_count": 192,
   "metadata": {},
   "outputs": [],
   "source": [
    "def filter_suggestions(filtered, gray, yellow, green, history2):\n",
    "    best_words=[]\n",
    "    for word in filtered:\n",
    "        for i in range(5):\n",
    "            if word[i] in yellow:\n",
    "                if yellow[word[i]]==i: #if the letter \n",
    "                    filtered.remove(word)\n",
    "                \n",
    "                \n",
    "        "
   ]
  },
  {
   "cell_type": "code",
   "execution_count": 150,
   "metadata": {},
   "outputs": [
    {
     "data": {
      "text/plain": [
       "{0: [('a', ': ⬜'), ('h', ': 🟩')],\n",
       " 1: [('d', ': ⬜'), ('e', ': 🟩')],\n",
       " 2: [('i', ': ⬜'), ('l', ': 🟩')],\n",
       " 3: [('e', ': 🟨'), ('m', ': ⬜')],\n",
       " 4: [('u', ': ⬜'), ('s', ': ⬜')]}"
      ]
     },
     "execution_count": 150,
     "metadata": {},
     "output_type": "execute_result"
    }
   ],
   "source": [
    "history2"
   ]
  },
  {
   "cell_type": "code",
   "execution_count": 158,
   "metadata": {},
   "outputs": [
    {
     "data": {
      "text/plain": [
       "['belch',\n",
       " 'ethyl',\n",
       " 'helen',\n",
       " 'hello',\n",
       " 'hotel',\n",
       " 'hovel',\n",
       " 'leech',\n",
       " 'wheel',\n",
       " 'whelk',\n",
       " 'whelp',\n",
       " 'whole']"
      ]
     },
     "execution_count": 158,
     "metadata": {},
     "output_type": "execute_result"
    }
   ],
   "source": [
    "filtered, gray, yellow, green= give_suggestions(history2)\n",
    "filtered"
   ]
  },
  {
   "cell_type": "code",
   "execution_count": 160,
   "metadata": {},
   "outputs": [
    {
     "data": {
      "text/plain": [
       "[(0, 'a', ': ⬜'),\n",
       " (1, 'd', ': ⬜'),\n",
       " (2, 'i', ': ⬜'),\n",
       " (3, 'e', ': 🟨'),\n",
       " (4, 'u', ': ⬜')]"
      ]
     },
     "execution_count": 160,
     "metadata": {},
     "output_type": "execute_result"
    }
   ],
   "source": [
    "results"
   ]
  },
  {
   "cell_type": "code",
   "execution_count": 173,
   "metadata": {},
   "outputs": [],
   "source": [
    "def get_user_guess():\n",
    "    guess=[]\n",
    "    rounds=['first','second','third','fourth','fifth']\n",
    "    for i in range(5):\n",
    "        letter=input('Please put in {} letter of your guess: '.format(rounds[i]))\n",
    "        color=input(\"\"\"What was the color of the {} letter: {}?  \n",
    "        1 for gray ⬜, 2 for yellow 🟨, 3 for green 🟩\n",
    "        \"\"\".format(rounds[i],letter))\n",
    "        if color=='1':\n",
    "            status=': ⬜'\n",
    "        elif color=='2':\n",
    "            status=': 🟨'\n",
    "        elif color=='3':\n",
    "            status=': 🟩'\n",
    "        guess.append((i, letter, status))\n",
    "    display_results(guess)\n",
    "    confirmation=input('Does this look correct? (yes, no)')\n",
    "    if confirmation.lower()=='yes':\n",
    "        return guess\n",
    "    else:\n",
    "        get_user_guess()\n",
    "        "
   ]
  },
  {
   "cell_type": "code",
   "execution_count": 182,
   "metadata": {},
   "outputs": [],
   "source": [
    "def validate_rounds():\n",
    "    r=input('How many words have you guessed so far? ')\n",
    "    try:\n",
    "        if int(r) in [1,2,3,4,5,6]:\n",
    "            return int(r)\n",
    "        else:\n",
    "            print('Please type a single digit between 1 and 6.')\n",
    "            validate_rounds()\n",
    "    except:\n",
    "        print('Please type a single digit between 1 and 6.')\n",
    "        validate_rounds()\n"
   ]
  },
  {
   "cell_type": "code",
   "execution_count": 187,
   "metadata": {},
   "outputs": [],
   "source": [
    "def compile_user_guesses():\n",
    "    r=validate_rounds()\n",
    "    history={}\n",
    "    for i in range(r):\n",
    "        results=get_user_guess()\n",
    "        update_history(history, results)\n",
    "    return give_suggestions(history)"
   ]
  },
  {
   "cell_type": "code",
   "execution_count": 200,
   "metadata": {},
   "outputs": [
    {
     "data": {
      "text/plain": [
       "dict_keys(['w', 'o', 'r', 't', 'd', 's'])"
      ]
     },
     "execution_count": 200,
     "metadata": {},
     "output_type": "execute_result"
    }
   ],
   "source": [
    "gray.keys()"
   ]
  },
  {
   "cell_type": "code",
   "execution_count": 215,
   "metadata": {},
   "outputs": [
    {
     "name": "stdout",
     "output_type": "stream",
     "text": [
      "How many words have you guessed so far? 2\n",
      "Please put in first letter of your guess: w\n",
      "What was the color of the first letter: w?  \n",
      "        1 for gray ⬜, 2 for yellow 🟨, 3 for green 🟩\n",
      "        1\n",
      "Please put in second letter of your guess: o\n",
      "What was the color of the second letter: o?  \n",
      "        1 for gray ⬜, 2 for yellow 🟨, 3 for green 🟩\n",
      "        1\n",
      "Please put in third letter of your guess: r\n",
      "What was the color of the third letter: r?  \n",
      "        1 for gray ⬜, 2 for yellow 🟨, 3 for green 🟩\n",
      "        1\n",
      "Please put in fourth letter of your guess: d\n",
      "What was the color of the fourth letter: d?  \n",
      "        1 for gray ⬜, 2 for yellow 🟨, 3 for green 🟩\n",
      "        1\n",
      "Please put in fifth letter of your guess: s\n",
      "What was the color of the fifth letter: s?  \n",
      "        1 for gray ⬜, 2 for yellow 🟨, 3 for green 🟩\n",
      "        2\n",
      "w : ⬜\n",
      "o : ⬜\n",
      "r : ⬜\n",
      "d : ⬜\n",
      "s : 🟨\n",
      "Does this look correct? (yes, no)yes\n",
      "Please put in first letter of your guess: s\n",
      "What was the color of the first letter: s?  \n",
      "        1 for gray ⬜, 2 for yellow 🟨, 3 for green 🟩\n",
      "        2\n",
      "Please put in second letter of your guess: e\n",
      "What was the color of the second letter: e?  \n",
      "        1 for gray ⬜, 2 for yellow 🟨, 3 for green 🟩\n",
      "        2\n",
      "Please put in third letter of your guess: a\n",
      "What was the color of the third letter: a?  \n",
      "        1 for gray ⬜, 2 for yellow 🟨, 3 for green 🟩\n",
      "        3\n",
      "Please put in fourth letter of your guess: t\n",
      "What was the color of the fourth letter: t?  \n",
      "        1 for gray ⬜, 2 for yellow 🟨, 3 for green 🟩\n",
      "        1\n",
      "Please put in fifth letter of your guess: s\n",
      "What was the color of the fifth letter: s?  \n",
      "        1 for gray ⬜, 2 for yellow 🟨, 3 for green 🟩\n",
      "        1\n",
      "s : 🟨\n",
      "e : 🟨\n",
      "a : 🟩\n",
      "t : ⬜\n",
      "s : ⬜\n",
      "Does this look correct? (yes, no)yes\n"
     ]
    },
    {
     "data": {
      "text/plain": [
       "(['abase',\n",
       "  'abies',\n",
       "  'abuse',\n",
       "  'aches',\n",
       "  'aegis',\n",
       "  'aisle',\n",
       "  'amens',\n",
       "  'amuse',\n",
       "  'anise',\n",
       "  'apses',\n",
       "  'ashen',\n",
       "  'ashes',\n",
       "  'asses',\n",
       "  'avens',\n",
       "  'axles',\n",
       "  'babes',\n",
       "  'bakes',\n",
       "  'bales',\n",
       "  'bases',\n",
       "  'beaks',\n",
       "  'beams',\n",
       "  'beans',\n",
       "  'beaus',\n",
       "  'blase',\n",
       "  'cafes',\n",
       "  'cages',\n",
       "  'cakes',\n",
       "  'canes',\n",
       "  'capes',\n",
       "  'cases',\n",
       "  'cause',\n",
       "  'caves',\n",
       "  'cease',\n",
       "  'chase',\n",
       "  'easel',\n",
       "  'eases',\n",
       "  'eaves',\n",
       "  'essay',\n",
       "  'exams',\n",
       "  'faces',\n",
       "  'fakes',\n",
       "  'false',\n",
       "  'faxes',\n",
       "  'fleas',\n",
       "  'gales',\n",
       "  'games',\n",
       "  'gapes',\n",
       "  'gases',\n",
       "  'gazes',\n",
       "  'haves',\n",
       "  'heals',\n",
       "  'heaps',\n",
       "  'james',\n",
       "  'japes',\n",
       "  'jeans',\n",
       "  'laces',\n",
       "  'lakes',\n",
       "  'lanes',\n",
       "  'lapse',\n",
       "  'leaks',\n",
       "  'leans',\n",
       "  'leaps',\n",
       "  'lease',\n",
       "  'leash',\n",
       "  'maces',\n",
       "  'makes',\n",
       "  'males',\n",
       "  'manes',\n",
       "  'manse',\n",
       "  'mazes',\n",
       "  'meals',\n",
       "  'means',\n",
       "  'names',\n",
       "  'paces',\n",
       "  'pages',\n",
       "  'pales',\n",
       "  'panes',\n",
       "  'passe',\n",
       "  'pause',\n",
       "  'paves',\n",
       "  'peaks',\n",
       "  'peals',\n",
       "  'phase',\n",
       "  'pleas',\n",
       "  'sable',\n",
       "  'safes',\n",
       "  'sages',\n",
       "  'sakes',\n",
       "  'salem',\n",
       "  'sales',\n",
       "  'salve',\n",
       "  'sauce',\n",
       "  'saves',\n",
       "  'scale',\n",
       "  'scape',\n",
       "  'seals',\n",
       "  'seams',\n",
       "  'seamy',\n",
       "  'sepia',\n",
       "  'shake',\n",
       "  'shale',\n",
       "  'shame',\n",
       "  'shape',\n",
       "  'shave',\n",
       "  'sheaf',\n",
       "  'slake',\n",
       "  'slave',\n",
       "  'snake',\n",
       "  'sneak',\n",
       "  'space',\n",
       "  'speak',\n",
       "  'suave',\n",
       "  'usage',\n",
       "  'vales',\n",
       "  'vanes',\n",
       "  'vases',\n",
       "  'zeals'],\n",
       " {'w': {0}, 'o': {1}, 'r': {2}, 'd': {3}, 't': {3}, 's': {4}},\n",
       " {'s': {0, 4}, 'e': {1}},\n",
       " {'a': {2}})"
      ]
     },
     "execution_count": 215,
     "metadata": {},
     "output_type": "execute_result"
    }
   ],
   "source": [
    "compile_user_guesses()"
   ]
  },
  {
   "cell_type": "markdown",
   "metadata": {},
   "source": [
    "### More Testing"
   ]
  },
  {
   "cell_type": "code",
   "execution_count": 147,
   "metadata": {},
   "outputs": [
    {
     "name": "stdout",
     "output_type": "stream",
     "text": [
      "h : 🟩\n",
      "e : 🟩\n",
      "l : 🟩\n",
      "m : ⬜\n",
      "s : ⬜\n",
      "[(0, 'h', ': 🟩'), (1, 'e', ': 🟩'), (2, 'l', ': 🟩'), (3, 'm', ': ⬜'), (4, 's', ': ⬜')]\n"
     ]
    }
   ],
   "source": [
    "sample_wordle='hello'\n",
    "first_guess='adieu'\n",
    "second_guess='sport'\n",
    "third_guess='helms'\n",
    "results, win=make_guess(sample_wordle, first_guess)\n",
    "results2, win=make_guess(sample_wordle, third_guess)\n",
    "#results3, win=make_guess(sample_wordle, third_guess)\n",
    "\n",
    "#display_results(results)\n",
    "display_results(results2)\n",
    "print(results3)"
   ]
  },
  {
   "cell_type": "code",
   "execution_count": 145,
   "metadata": {},
   "outputs": [],
   "source": [
    "history1=update_history({},results)\n"
   ]
  },
  {
   "cell_type": "code",
   "execution_count": 148,
   "metadata": {},
   "outputs": [],
   "source": [
    "history1=update_history({},results)\n",
    "history2=update_history(history1,results2)\n",
    "#history3=update_history(history2, results3)\n",
    "#history3"
   ]
  },
  {
   "cell_type": "code",
   "execution_count": 138,
   "metadata": {},
   "outputs": [
    {
     "data": {
      "text/plain": [
       "(['hello', 'hovel', 'whole'],\n",
       " {'a': {0},\n",
       "  's': {0, 4},\n",
       "  'd': {1},\n",
       "  'p': {1},\n",
       "  'i': {2},\n",
       "  'r': {3},\n",
       "  'm': {3},\n",
       "  'u': {4},\n",
       "  't': {4}},\n",
       " {'o': {2}, 'e': {3}},\n",
       " {'h': {0}, 'e': {1}, 'l': {2}})"
      ]
     },
     "execution_count": 138,
     "metadata": {},
     "output_type": "execute_result"
    }
   ],
   "source": [
    "test=give_suggestions(history3)\n",
    "test"
   ]
  },
  {
   "cell_type": "markdown",
   "metadata": {},
   "source": [
    "## Code Graveyard"
   ]
  },
  {
   "cell_type": "code",
   "execution_count": null,
   "metadata": {},
   "outputs": [],
   "source": []
  },
  {
   "cell_type": "code",
   "execution_count": 30,
   "metadata": {},
   "outputs": [],
   "source": [
    "def update_history(history, results):\n",
    "    if history=={}:\n",
    "        #create dictionary of letters\n",
    "        alph='abcdefghijklmnopqrstuvwxyz'\n",
    "        for letter in alph:\n",
    "            history[letter]=''\n",
    "        #update dictionary based on results\n",
    "        for result in results:\n",
    "            letter=result[1]\n",
    "            status=result[2]\n",
    "            history[letter]=[[result[1]],status]\n",
    "    else:\n",
    "        #update dictionary based on results\n",
    "        for result in results:\n",
    "            letter=result[1]\n",
    "            status=result[2]\n",
    "            if history[letter]=='🟩' and status =='🟨':\n",
    "                pass #won't update a green to a yellow\n",
    "            else:\n",
    "                history[letter][0].append( \n",
    "    return history"
   ]
  },
  {
   "cell_type": "code",
   "execution_count": 132,
   "metadata": {},
   "outputs": [],
   "source": [
    "def give_suggestions(history):\n",
    "    gray=[]\n",
    "    yellow=[]\n",
    "    green=[]\n",
    "    for key in history:\n",
    "        if history[key]==': ⬜':\n",
    "            gray.append(key)\n",
    "        elif history[key]==': 🟨':\n",
    "            yellow.append(key)\n",
    "        elif history[key]==': 🟩':\n",
    "            green.append(key)\n",
    "\n",
    "    suggestions=[]\n",
    "    for word in wordle_words:\n",
    "        ##weeds out any words that have gray letters in them\n",
    "        if len(set(gray).intersection(set(word)))>=1:\n",
    "            pass\n",
    "        ##finds words that have yellow letters in them\n",
    "        elif len(set(yellow).intersection(set(word)))>=len(set(yellow)):\n",
    "            suggestions.append(word)\n",
    "        \n",
    "    return suggestions\n",
    "            \n",
    "        "
   ]
  }
 ],
 "metadata": {
  "kernelspec": {
   "display_name": "Python 3",
   "language": "python",
   "name": "python3"
  },
  "language_info": {
   "codemirror_mode": {
    "name": "ipython",
    "version": 3
   },
   "file_extension": ".py",
   "mimetype": "text/x-python",
   "name": "python",
   "nbconvert_exporter": "python",
   "pygments_lexer": "ipython3",
   "version": "3.8.6"
  }
 },
 "nbformat": 4,
 "nbformat_minor": 4
}
