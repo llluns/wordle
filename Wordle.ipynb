{
 "cells": [
  {
   "cell_type": "markdown",
   "metadata": {},
   "source": [
    "# Wordle Cheater Data Preprocessing"
   ]
  },
  {
   "cell_type": "markdown",
   "metadata": {},
   "source": [
    "## Reading in the Data"
   ]
  },
  {
   "cell_type": "code",
   "execution_count": 69,
   "metadata": {},
   "outputs": [],
   "source": [
    "fname='corncob_lowercase.txt'\n",
    "file=open(fname,'r')\n",
    "words=file.readlines()"
   ]
  },
  {
   "cell_type": "code",
   "execution_count": 12,
   "metadata": {},
   "outputs": [
    {
     "data": {
      "text/plain": [
       "['aardvark\\n',\n",
       " 'aardwolf\\n',\n",
       " 'aaron\\n',\n",
       " 'aback\\n',\n",
       " 'abacus\\n',\n",
       " 'abaft\\n',\n",
       " 'abalone\\n',\n",
       " 'abandon\\n',\n",
       " 'abandoned\\n',\n",
       " 'abandonment\\n']"
      ]
     },
     "execution_count": 12,
     "metadata": {},
     "output_type": "execute_result"
    }
   ],
   "source": [
    "words[0:10]"
   ]
  },
  {
   "cell_type": "markdown",
   "metadata": {},
   "source": [
    "## Data Preprocessing"
   ]
  },
  {
   "cell_type": "code",
   "execution_count": 72,
   "metadata": {},
   "outputs": [],
   "source": [
    "wordle_words=[]\n",
    "for i in range(len(words)):\n",
    "    words[i]=words[i][0:-1] #getting rid of the /n \n",
    "    if len(words[i])==5:\n",
    "        wordle_words.append(words[i])"
   ]
  },
  {
   "cell_type": "code",
   "execution_count": 73,
   "metadata": {},
   "outputs": [
    {
     "name": "stdout",
     "output_type": "stream",
     "text": [
      "number of initial words is: 58110\n",
      "number of five letter words is: 4266\n"
     ]
    },
    {
     "data": {
      "text/plain": [
       "['mason',\n",
       " 'masts',\n",
       " 'match',\n",
       " 'mated',\n",
       " 'mater',\n",
       " 'mates',\n",
       " 'maths',\n",
       " 'matte',\n",
       " 'mauls',\n",
       " 'mauve']"
      ]
     },
     "execution_count": 73,
     "metadata": {},
     "output_type": "execute_result"
    }
   ],
   "source": [
    "print('number of initial words is:', len(words))\n",
    "print('number of five letter words is:',len(wordle_words))\n",
    "wordle_words[2230:2240]"
   ]
  },
  {
   "cell_type": "markdown",
   "metadata": {},
   "source": [
    "## Algorithm Building"
   ]
  },
  {
   "cell_type": "code",
   "execution_count": 89,
   "metadata": {},
   "outputs": [],
   "source": [
    "def make_guess(wordle, guess):\n",
    "    for i in range(len(wordle)):\n",
    "        if guess[i]==wordle[i]:\n",
    "            print( guess[i], ': 🟩')\n",
    "        elif guess[i] in wordle:\n",
    "            print( guess[i], ': 🟨')\n",
    "        else:\n",
    "            print( guess[i], ': ⬜')\n",
    "    if guess==wordle:\n",
    "        return 1\n"
   ]
  },
  {
   "cell_type": "code",
   "execution_count": 80,
   "metadata": {},
   "outputs": [
    {
     "name": "stdout",
     "output_type": "stream",
     "text": [
      "a : ⬜\n",
      "d : ⬜\n",
      "i : ⬜\n",
      "e : 🟨\n",
      "u : ⬜\n"
     ]
    }
   ],
   "source": [
    "sample_wordle='hello'\n",
    "first_guess='adieu'\n",
    "make_guess(sample_wordle, first_guess)"
   ]
  },
  {
   "cell_type": "code",
   "execution_count": 86,
   "metadata": {},
   "outputs": [],
   "source": [
    "def validate(word):\n",
    "    if word.lower() in wordle_words:\n",
    "        return word\n",
    "    else:\n",
    "        new_word=input('Word not in wordle words. Please enter a new word: ')\n",
    "        validate(new_word)"
   ]
  },
  {
   "cell_type": "code",
   "execution_count": 87,
   "metadata": {},
   "outputs": [],
   "source": [
    "def play_wordle(wordle):\n",
    "    for Round in ['First','Second','Third', 'Fourth','Fifth','Sixth']:\n",
    "        guess=input('{} guess: '.format(Round))\n",
    "        guess= validate(guess)\n",
    "        results=make_guess(wordle, guess)\n",
    "        if results==1:\n",
    "            return 'Congrats! You guessed the wordle!'\n",
    "    "
   ]
  },
  {
   "cell_type": "code",
   "execution_count": 90,
   "metadata": {},
   "outputs": [
    {
     "name": "stdout",
     "output_type": "stream",
     "text": [
      "First guess: hello\n",
      "h : 🟩\n",
      "e : 🟩\n",
      "l : 🟩\n",
      "l : 🟩\n",
      "o : 🟩\n"
     ]
    },
    {
     "data": {
      "text/plain": [
       "'Congrats! You guessed the wordle!'"
      ]
     },
     "execution_count": 90,
     "metadata": {},
     "output_type": "execute_result"
    }
   ],
   "source": [
    "play_wordle(sample_wordle)"
   ]
  },
  {
   "cell_type": "code",
   "execution_count": null,
   "metadata": {},
   "outputs": [],
   "source": []
  },
  {
   "cell_type": "code",
   "execution_count": null,
   "metadata": {},
   "outputs": [],
   "source": []
  },
  {
   "cell_type": "code",
   "execution_count": null,
   "metadata": {},
   "outputs": [],
   "source": []
  },
  {
   "cell_type": "code",
   "execution_count": null,
   "metadata": {},
   "outputs": [],
   "source": []
  }
 ],
 "metadata": {
  "kernelspec": {
   "display_name": "Python 3",
   "language": "python",
   "name": "python3"
  },
  "language_info": {
   "codemirror_mode": {
    "name": "ipython",
    "version": 3
   },
   "file_extension": ".py",
   "mimetype": "text/x-python",
   "name": "python",
   "nbconvert_exporter": "python",
   "pygments_lexer": "ipython3",
   "version": "3.8.6"
  }
 },
 "nbformat": 4,
 "nbformat_minor": 4
}
