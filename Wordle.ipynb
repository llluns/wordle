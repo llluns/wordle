{
 "cells": [
  {
   "cell_type": "markdown",
   "metadata": {},
   "source": [
    "# Wordle Cheater Data Preprocessing"
   ]
  },
  {
   "cell_type": "markdown",
   "metadata": {},
   "source": [
    "## Reading in the Data"
   ]
  },
  {
   "cell_type": "code",
   "execution_count": 69,
   "metadata": {},
   "outputs": [],
   "source": [
    "fname='corncob_lowercase.txt'\n",
    "file=open(fname,'r')\n",
    "words=file.readlines()"
   ]
  },
  {
   "cell_type": "code",
   "execution_count": 12,
   "metadata": {},
   "outputs": [
    {
     "data": {
      "text/plain": [
       "['aardvark\\n',\n",
       " 'aardwolf\\n',\n",
       " 'aaron\\n',\n",
       " 'aback\\n',\n",
       " 'abacus\\n',\n",
       " 'abaft\\n',\n",
       " 'abalone\\n',\n",
       " 'abandon\\n',\n",
       " 'abandoned\\n',\n",
       " 'abandonment\\n']"
      ]
     },
     "execution_count": 12,
     "metadata": {},
     "output_type": "execute_result"
    }
   ],
   "source": [
    "words[0:10]"
   ]
  },
  {
   "cell_type": "markdown",
   "metadata": {},
   "source": [
    "## Data Preprocessing"
   ]
  },
  {
   "cell_type": "code",
   "execution_count": 72,
   "metadata": {},
   "outputs": [],
   "source": [
    "wordle_words=[]\n",
    "for i in range(len(words)):\n",
    "    words[i]=words[i][0:-1] #getting rid of the /n \n",
    "    if len(words[i])==5:\n",
    "        wordle_words.append(words[i])"
   ]
  },
  {
   "cell_type": "code",
   "execution_count": 73,
   "metadata": {},
   "outputs": [
    {
     "name": "stdout",
     "output_type": "stream",
     "text": [
      "number of initial words is: 58110\n",
      "number of five letter words is: 4266\n"
     ]
    },
    {
     "data": {
      "text/plain": [
       "['mason',\n",
       " 'masts',\n",
       " 'match',\n",
       " 'mated',\n",
       " 'mater',\n",
       " 'mates',\n",
       " 'maths',\n",
       " 'matte',\n",
       " 'mauls',\n",
       " 'mauve']"
      ]
     },
     "execution_count": 73,
     "metadata": {},
     "output_type": "execute_result"
    }
   ],
   "source": [
    "print('number of initial words is:', len(words))\n",
    "print('number of five letter words is:',len(wordle_words))\n",
    "wordle_words[2230:2240]"
   ]
  },
  {
   "cell_type": "markdown",
   "metadata": {},
   "source": [
    "## Algorithm Building"
   ]
  },
  {
   "cell_type": "code",
   "execution_count": 134,
   "metadata": {},
   "outputs": [],
   "source": [
    "def make_guess(wordle, guess):\n",
    "    results=[]\n",
    "    for i in range(len(wordle)):\n",
    "        if guess[i]==wordle[i]:\n",
    "            results.append(( guess[i], ': 🟩'))\n",
    "        elif guess[i] in wordle:\n",
    "            results.append(( guess[i], ': 🟨'))\n",
    "        else:\n",
    "            results.append(( guess[i], ': ⬜'))\n",
    "    if guess==wordle:\n",
    "        win= 1\n",
    "    else:\n",
    "        win=0\n",
    "    return(results, win)\n"
   ]
  },
  {
   "cell_type": "code",
   "execution_count": 189,
   "metadata": {},
   "outputs": [
    {
     "name": "stdout",
     "output_type": "stream",
     "text": [
      "s : ⬜\n",
      "p : ⬜\n",
      "o : 🟨\n",
      "r : ⬜\n",
      "t : ⬜\n"
     ]
    }
   ],
   "source": [
    "sample_wordle='hello'\n",
    "first_guess='adieu'\n",
    "second_guess='sport'\n",
    "results, win=make_guess(sample_wordle, first_guess)\n",
    "results2, win2=make_guess(sample_wordle, second_guess)\n",
    "#display_results(results)\n",
    "display_results(results2)"
   ]
  },
  {
   "cell_type": "code",
   "execution_count": 106,
   "metadata": {},
   "outputs": [],
   "source": [
    "def validate(word):\n",
    "    if word.lower() in wordle_words:\n",
    "        return word.lower()\n",
    "    else:\n",
    "        word=input('Word not in wordle words. Please enter a new word: ')\n",
    "        return validate(word)"
   ]
  },
  {
   "cell_type": "code",
   "execution_count": 191,
   "metadata": {},
   "outputs": [
    {
     "data": {
      "text/plain": [
       "{'a': ': ⬜',\n",
       " 'b': '',\n",
       " 'c': '',\n",
       " 'd': ': ⬜',\n",
       " 'e': ': 🟨',\n",
       " 'f': '',\n",
       " 'g': '',\n",
       " 'h': '',\n",
       " 'i': ': ⬜',\n",
       " 'j': '',\n",
       " 'k': '',\n",
       " 'l': '',\n",
       " 'm': '',\n",
       " 'n': '',\n",
       " 'o': ': 🟨',\n",
       " 'p': ': ⬜',\n",
       " 'q': '',\n",
       " 'r': ': ⬜',\n",
       " 's': ': ⬜',\n",
       " 't': ': ⬜',\n",
       " 'u': ': ⬜',\n",
       " 'v': '',\n",
       " 'w': '',\n",
       " 'x': '',\n",
       " 'y': '',\n",
       " 'z': ''}"
      ]
     },
     "execution_count": 191,
     "metadata": {},
     "output_type": "execute_result"
    }
   ],
   "source": [
    "sample_history=[]\n",
    "sample_results=results\n",
    "history1=update_history({},results)\n",
    "history2=update_history(history1,results2)\n",
    "history2"
   ]
  },
  {
   "cell_type": "code",
   "execution_count": 190,
   "metadata": {},
   "outputs": [],
   "source": [
    "def update_history(history, results):\n",
    "    if history=={}:\n",
    "        #create dictionary of letters\n",
    "        alph='abcdefghijklmnopqrstuvwxyz'\n",
    "        for letter in alph:\n",
    "            history[letter]=''\n",
    "        #update dictionary based on results\n",
    "        for result in results:\n",
    "            letter=result[0]\n",
    "            status=result[1]\n",
    "            history[letter]=status\n",
    "    else:\n",
    "        #update dictionary based on results\n",
    "        for result in results:\n",
    "            letter=result[0]\n",
    "            status=result[1]\n",
    "            if history[letter]=='🟩' and status =='🟨':\n",
    "                pass #won't update a green to a yellow\n",
    "            else:\n",
    "                history[letter]=status \n",
    "    return history"
   ]
  },
  {
   "cell_type": "code",
   "execution_count": 174,
   "metadata": {},
   "outputs": [],
   "source": [
    "def display_history(history):\n",
    "    printed_history=''\n",
    "    for key in history:\n",
    "        printed_history=printed_history+ key+ history[key]+ \"  \"\n",
    "    print(printed_history)"
   ]
  },
  {
   "cell_type": "code",
   "execution_count": null,
   "metadata": {},
   "outputs": [],
   "source": []
  },
  {
   "cell_type": "code",
   "execution_count": 130,
   "metadata": {},
   "outputs": [],
   "source": [
    "def display_results(results):\n",
    "    for letter in results:\n",
    "        print(letter[0],letter[1])"
   ]
  },
  {
   "cell_type": "code",
   "execution_count": 167,
   "metadata": {},
   "outputs": [],
   "source": [
    "def play_wordle(wordle):\n",
    "    history={}\n",
    "    \n",
    "    for Round in ['First','Second','Third', 'Fourth','Fifth','Sixth']:\n",
    "        guess=input('{} guess: '.format(Round))\n",
    "        guess= validate(guess)\n",
    "        results, win=make_guess(wordle, guess)\n",
    "        display_results(results)\n",
    "        history=update_history(history, results)\n",
    "        display_history(history)\n",
    "        if win==1:\n",
    "            print('Congrats! You guessed the wordle!')\n",
    "            return 1\n",
    "        elif Round=='Sixth':\n",
    "            print( 'Ah, darn. The wordle was {}'.format(wordle))\n",
    "            return 0\n",
    "    "
   ]
  },
  {
   "cell_type": "code",
   "execution_count": 153,
   "metadata": {},
   "outputs": [],
   "source": [
    "def play_random_wordle():\n",
    "    import random\n",
    "    wordle=wordle_words[random.randint(0, len(wordle_words))]\n",
    "    play_wordle(wordle)"
   ]
  },
  {
   "cell_type": "code",
   "execution_count": 175,
   "metadata": {
    "scrolled": true
   },
   "outputs": [
    {
     "name": "stdout",
     "output_type": "stream",
     "text": [
      "First guess: adieu\n",
      "a : 🟨\n",
      "d : ⬜\n",
      "i : ⬜\n",
      "e : ⬜\n",
      "u : ⬜\n",
      "a: 🟨  b  c  d: ⬜  e: ⬜  f  g  h  i: ⬜  j  k  l  m  n  o  p  q  r  s  t  u: ⬜  v  w  x  y  z  \n",
      "Second guess: sport\n",
      "s : ⬜\n",
      "p : ⬜\n",
      "o : 🟨\n",
      "r : ⬜\n",
      "t : 🟨\n",
      "a: 🟨  b  c  d: ⬜  e: ⬜  f  g  h  i: ⬜  j  k  l  m  n  o  p  q  r  s  t  u: ⬜  v  w  x  y  z  \n"
     ]
    },
    {
     "ename": "KeyboardInterrupt",
     "evalue": "Interrupted by user",
     "output_type": "error",
     "traceback": [
      "\u001b[0;31m---------------------------------------------------------------------------\u001b[0m",
      "\u001b[0;31mKeyboardInterrupt\u001b[0m                         Traceback (most recent call last)",
      "\u001b[0;32m<ipython-input-175-bc63ac238781>\u001b[0m in \u001b[0;36m<module>\u001b[0;34m\u001b[0m\n\u001b[0;32m----> 1\u001b[0;31m \u001b[0mplay_random_wordle\u001b[0m\u001b[0;34m(\u001b[0m\u001b[0;34m)\u001b[0m\u001b[0;34m\u001b[0m\u001b[0;34m\u001b[0m\u001b[0m\n\u001b[0m",
      "\u001b[0;32m<ipython-input-153-c536322114b6>\u001b[0m in \u001b[0;36mplay_random_wordle\u001b[0;34m()\u001b[0m\n\u001b[1;32m      2\u001b[0m     \u001b[0;32mimport\u001b[0m \u001b[0mrandom\u001b[0m\u001b[0;34m\u001b[0m\u001b[0;34m\u001b[0m\u001b[0m\n\u001b[1;32m      3\u001b[0m     \u001b[0mwordle\u001b[0m\u001b[0;34m=\u001b[0m\u001b[0mwordle_words\u001b[0m\u001b[0;34m[\u001b[0m\u001b[0mrandom\u001b[0m\u001b[0;34m.\u001b[0m\u001b[0mrandint\u001b[0m\u001b[0;34m(\u001b[0m\u001b[0;36m0\u001b[0m\u001b[0;34m,\u001b[0m \u001b[0mlen\u001b[0m\u001b[0;34m(\u001b[0m\u001b[0mwordle_words\u001b[0m\u001b[0;34m)\u001b[0m\u001b[0;34m)\u001b[0m\u001b[0;34m]\u001b[0m\u001b[0;34m\u001b[0m\u001b[0;34m\u001b[0m\u001b[0m\n\u001b[0;32m----> 4\u001b[0;31m     \u001b[0mplay_wordle\u001b[0m\u001b[0;34m(\u001b[0m\u001b[0mwordle\u001b[0m\u001b[0;34m)\u001b[0m\u001b[0;34m\u001b[0m\u001b[0;34m\u001b[0m\u001b[0m\n\u001b[0m",
      "\u001b[0;32m<ipython-input-167-05f5ac3c93cf>\u001b[0m in \u001b[0;36mplay_wordle\u001b[0;34m(wordle)\u001b[0m\n\u001b[1;32m      3\u001b[0m \u001b[0;34m\u001b[0m\u001b[0m\n\u001b[1;32m      4\u001b[0m     \u001b[0;32mfor\u001b[0m \u001b[0mRound\u001b[0m \u001b[0;32min\u001b[0m \u001b[0;34m[\u001b[0m\u001b[0;34m'First'\u001b[0m\u001b[0;34m,\u001b[0m\u001b[0;34m'Second'\u001b[0m\u001b[0;34m,\u001b[0m\u001b[0;34m'Third'\u001b[0m\u001b[0;34m,\u001b[0m \u001b[0;34m'Fourth'\u001b[0m\u001b[0;34m,\u001b[0m\u001b[0;34m'Fifth'\u001b[0m\u001b[0;34m,\u001b[0m\u001b[0;34m'Sixth'\u001b[0m\u001b[0;34m]\u001b[0m\u001b[0;34m:\u001b[0m\u001b[0;34m\u001b[0m\u001b[0;34m\u001b[0m\u001b[0m\n\u001b[0;32m----> 5\u001b[0;31m         \u001b[0mguess\u001b[0m\u001b[0;34m=\u001b[0m\u001b[0minput\u001b[0m\u001b[0;34m(\u001b[0m\u001b[0;34m'{} guess: '\u001b[0m\u001b[0;34m.\u001b[0m\u001b[0mformat\u001b[0m\u001b[0;34m(\u001b[0m\u001b[0mRound\u001b[0m\u001b[0;34m)\u001b[0m\u001b[0;34m)\u001b[0m\u001b[0;34m\u001b[0m\u001b[0;34m\u001b[0m\u001b[0m\n\u001b[0m\u001b[1;32m      6\u001b[0m         \u001b[0mguess\u001b[0m\u001b[0;34m=\u001b[0m \u001b[0mvalidate\u001b[0m\u001b[0;34m(\u001b[0m\u001b[0mguess\u001b[0m\u001b[0;34m)\u001b[0m\u001b[0;34m\u001b[0m\u001b[0;34m\u001b[0m\u001b[0m\n\u001b[1;32m      7\u001b[0m         \u001b[0mresults\u001b[0m\u001b[0;34m,\u001b[0m \u001b[0mwin\u001b[0m\u001b[0;34m=\u001b[0m\u001b[0mmake_guess\u001b[0m\u001b[0;34m(\u001b[0m\u001b[0mwordle\u001b[0m\u001b[0;34m,\u001b[0m \u001b[0mguess\u001b[0m\u001b[0;34m)\u001b[0m\u001b[0;34m\u001b[0m\u001b[0;34m\u001b[0m\u001b[0m\n",
      "\u001b[0;32m/Library/Frameworks/Python.framework/Versions/3.8/lib/python3.8/site-packages/ipykernel/kernelbase.py\u001b[0m in \u001b[0;36mraw_input\u001b[0;34m(self, prompt)\u001b[0m\n\u001b[1;32m    858\u001b[0m                 \u001b[0;34m\"raw_input was called, but this frontend does not support input requests.\"\u001b[0m\u001b[0;34m\u001b[0m\u001b[0;34m\u001b[0m\u001b[0m\n\u001b[1;32m    859\u001b[0m             )\n\u001b[0;32m--> 860\u001b[0;31m         return self._input_request(str(prompt),\n\u001b[0m\u001b[1;32m    861\u001b[0m             \u001b[0mself\u001b[0m\u001b[0;34m.\u001b[0m\u001b[0m_parent_ident\u001b[0m\u001b[0;34m,\u001b[0m\u001b[0;34m\u001b[0m\u001b[0;34m\u001b[0m\u001b[0m\n\u001b[1;32m    862\u001b[0m             \u001b[0mself\u001b[0m\u001b[0;34m.\u001b[0m\u001b[0m_parent_header\u001b[0m\u001b[0;34m,\u001b[0m\u001b[0;34m\u001b[0m\u001b[0;34m\u001b[0m\u001b[0m\n",
      "\u001b[0;32m/Library/Frameworks/Python.framework/Versions/3.8/lib/python3.8/site-packages/ipykernel/kernelbase.py\u001b[0m in \u001b[0;36m_input_request\u001b[0;34m(self, prompt, ident, parent, password)\u001b[0m\n\u001b[1;32m    902\u001b[0m             \u001b[0;32mexcept\u001b[0m \u001b[0mKeyboardInterrupt\u001b[0m\u001b[0;34m:\u001b[0m\u001b[0;34m\u001b[0m\u001b[0;34m\u001b[0m\u001b[0m\n\u001b[1;32m    903\u001b[0m                 \u001b[0;31m# re-raise KeyboardInterrupt, to truncate traceback\u001b[0m\u001b[0;34m\u001b[0m\u001b[0;34m\u001b[0m\u001b[0;34m\u001b[0m\u001b[0m\n\u001b[0;32m--> 904\u001b[0;31m                 \u001b[0;32mraise\u001b[0m \u001b[0mKeyboardInterrupt\u001b[0m\u001b[0;34m(\u001b[0m\u001b[0;34m\"Interrupted by user\"\u001b[0m\u001b[0;34m)\u001b[0m \u001b[0;32mfrom\u001b[0m \u001b[0;32mNone\u001b[0m\u001b[0;34m\u001b[0m\u001b[0;34m\u001b[0m\u001b[0m\n\u001b[0m\u001b[1;32m    905\u001b[0m             \u001b[0;32mexcept\u001b[0m \u001b[0mException\u001b[0m \u001b[0;32mas\u001b[0m \u001b[0me\u001b[0m\u001b[0;34m:\u001b[0m\u001b[0;34m\u001b[0m\u001b[0;34m\u001b[0m\u001b[0m\n\u001b[1;32m    906\u001b[0m                 \u001b[0mself\u001b[0m\u001b[0;34m.\u001b[0m\u001b[0mlog\u001b[0m\u001b[0;34m.\u001b[0m\u001b[0mwarning\u001b[0m\u001b[0;34m(\u001b[0m\u001b[0;34m\"Invalid Message:\"\u001b[0m\u001b[0;34m,\u001b[0m \u001b[0mexc_info\u001b[0m\u001b[0;34m=\u001b[0m\u001b[0;32mTrue\u001b[0m\u001b[0;34m)\u001b[0m\u001b[0;34m\u001b[0m\u001b[0;34m\u001b[0m\u001b[0m\n",
      "\u001b[0;31mKeyboardInterrupt\u001b[0m: Interrupted by user"
     ]
    }
   ],
   "source": [
    "play_random_wordle()"
   ]
  },
  {
   "cell_type": "code",
   "execution_count": null,
   "metadata": {},
   "outputs": [],
   "source": []
  },
  {
   "cell_type": "code",
   "execution_count": null,
   "metadata": {},
   "outputs": [],
   "source": []
  }
 ],
 "metadata": {
  "kernelspec": {
   "display_name": "Python 3",
   "language": "python",
   "name": "python3"
  },
  "language_info": {
   "codemirror_mode": {
    "name": "ipython",
    "version": 3
   },
   "file_extension": ".py",
   "mimetype": "text/x-python",
   "name": "python",
   "nbconvert_exporter": "python",
   "pygments_lexer": "ipython3",
   "version": "3.8.6"
  }
 },
 "nbformat": 4,
 "nbformat_minor": 4
}
